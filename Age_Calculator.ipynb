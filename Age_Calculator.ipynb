{
  "nbformat": 4,
  "nbformat_minor": 0,
  "metadata": {
    "colab": {
      "provenance": []
    },
    "kernelspec": {
      "name": "python3",
      "display_name": "Python 3"
    },
    "language_info": {
      "name": "python"
    }
  },
  "cells": [
    {
      "cell_type": "markdown",
      "source": [
        "# Python program for age calculator"
      ],
      "metadata": {
        "id": "3oGgFMsY_EKN"
      }
    },
    {
      "cell_type": "code",
      "source": [
        "from datetime import date\n",
        "\n",
        "def calculate_age(birth_date, current_date):\n",
        "    # Calculation\n",
        "    years = current_date.year - birth_date.year\n",
        "    months = current_date.month - birth_date.month\n",
        "    days = current_date.day - birth_date.day\n",
        "\n",
        "    # Adjust for negative differences\n",
        "    if days < 0:\n",
        "        months -= 1\n",
        "        days += get_days_in_month(birth_date.month, birth_date.year)\n",
        "    if months < 0:\n",
        "        years -= 1\n",
        "        months += 12\n",
        "\n",
        "    return years, months, days\n",
        "\n",
        "def get_days_in_month(month, year):\n",
        "    # Returns the number of days in a given month and year\n",
        "    if month == 2:  # February\n",
        "      if year % 4 == 0 and (year % 100 != 0 or year % 400 == 0):\n",
        "            return 29  # Leap year\n",
        "      else:\n",
        "            return 28\n",
        "    elif month in [4, 6, 9, 11]:  # April, June, September, November\n",
        "        return 30\n",
        "    else:\n",
        "        return 31\n",
        "\n",
        "# User enters date of birth\n",
        "birth_day = int(input(\"Enter your birth day: \"))\n",
        "birth_month = int(input(\"Enter your birth month: \"))\n",
        "birth_year = int(input(\"Enter your birth year: \"))\n",
        "\n",
        "# Current date\n",
        "current_date = date.today()\n",
        "\n",
        "# Create date objects for birth date and current date\n",
        "birth_date = date(birth_year, birth_month, birth_day)\n",
        "\n",
        "# Check if the birth date is valid\n",
        "if birth_date <= current_date:\n",
        "    # Calculate age\n",
        "    age_years, age_months, age_days = calculate_age(birth_date, current_date)\n",
        "    print(f\"Your age is {age_years} years, {age_months} months, and {age_days} days.\")\n",
        "else:\n",
        "    print(\"Please enter a valid date of birth.\")"
      ],
      "metadata": {
        "id": "BlJfx4cZz9NC"
      },
      "execution_count": null,
      "outputs": []
    }
  ]
}